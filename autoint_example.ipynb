{
  "nbformat": 4,
  "nbformat_minor": 0,
  "metadata": {
    "colab": {
      "name": "autoint_example.ipynb",
      "provenance": [],
      "collapsed_sections": [
        "gCSbelzxRej2",
        "Y4fpzrWxRluK",
        "-ounsyPROmJe"
      ],
      "toc_visible": true
    },
    "kernelspec": {
      "display_name": "Python 3",
      "language": "python",
      "name": "python3"
    },
    "language_info": {
      "codemirror_mode": {
        "name": "ipython",
        "version": 3
      },
      "file_extension": ".py",
      "mimetype": "text/x-python",
      "name": "python",
      "nbconvert_exporter": "python",
      "pygments_lexer": "ipython3",
      "version": "3.8.8"
    },
    "accelerator": "GPU"
  },
  "cells": [
    {
      "cell_type": "markdown",
      "metadata": {
        "id": "p8LcUlwJKFIG"
      },
      "source": [
        "# AutoInt example"
      ]
    },
    {
      "cell_type": "markdown",
      "metadata": {
        "id": "xvxmqpliPY94"
      },
      "source": [
        "## Imports"
      ]
    },
    {
      "cell_type": "markdown",
      "metadata": {
        "id": "gCSbelzxRej2"
      },
      "source": [
        "### A bunch of third-party libraries"
      ]
    },
    {
      "cell_type": "code",
      "metadata": {
        "colab": {
          "base_uri": "https://localhost:8080/"
        },
        "id": "Uf4JlP-7OLrQ",
        "outputId": "a410f767-60b1-4971-c7c8-9fb237b4064a"
      },
      "source": [
        "import torch\n",
        "import matplotlib.pyplot as plt\n",
        "import numpy as np\n",
        "from functools import partial\n",
        "from torch.utils.data import DataLoader\n",
        "!pip install --no-dependencies torchmeta==1.4.6\n",
        "!pip install ordered-set\n",
        "!pip install colour\n",
        "from torchmeta.modules import MetaModule"
      ],
      "execution_count": 2,
      "outputs": [
        {
          "output_type": "stream",
          "text": [
            "Collecting torchmeta==1.4.6\n",
            "  Downloading torchmeta-1.4.6-py3-none-any.whl (171 kB)\n",
            "\u001b[?25l\r\u001b[K     |██                              | 10 kB 33.8 MB/s eta 0:00:01\r\u001b[K     |███▉                            | 20 kB 23.7 MB/s eta 0:00:01\r\u001b[K     |█████▊                          | 30 kB 17.1 MB/s eta 0:00:01\r\u001b[K     |███████▋                        | 40 kB 15.3 MB/s eta 0:00:01\r\u001b[K     |█████████▋                      | 51 kB 7.9 MB/s eta 0:00:01\r\u001b[K     |███████████▌                    | 61 kB 7.6 MB/s eta 0:00:01\r\u001b[K     |█████████████▍                  | 71 kB 7.9 MB/s eta 0:00:01\r\u001b[K     |███████████████▎                | 81 kB 8.9 MB/s eta 0:00:01\r\u001b[K     |█████████████████▏              | 92 kB 9.4 MB/s eta 0:00:01\r\u001b[K     |███████████████████▏            | 102 kB 7.5 MB/s eta 0:00:01\r\u001b[K     |█████████████████████           | 112 kB 7.5 MB/s eta 0:00:01\r\u001b[K     |███████████████████████         | 122 kB 7.5 MB/s eta 0:00:01\r\u001b[K     |████████████████████████▉       | 133 kB 7.5 MB/s eta 0:00:01\r\u001b[K     |██████████████████████████▉     | 143 kB 7.5 MB/s eta 0:00:01\r\u001b[K     |████████████████████████████▊   | 153 kB 7.5 MB/s eta 0:00:01\r\u001b[K     |██████████████████████████████▋ | 163 kB 7.5 MB/s eta 0:00:01\r\u001b[K     |████████████████████████████████| 171 kB 7.5 MB/s \n",
            "\u001b[?25hInstalling collected packages: torchmeta\n",
            "Successfully installed torchmeta-1.4.6\n",
            "Collecting ordered-set\n",
            "  Downloading ordered-set-4.0.2.tar.gz (10 kB)\n",
            "Building wheels for collected packages: ordered-set\n",
            "  Building wheel for ordered-set (setup.py) ... \u001b[?25l\u001b[?25hdone\n",
            "  Created wheel for ordered-set: filename=ordered_set-4.0.2-py2.py3-none-any.whl size=8218 sha256=a3cf7f186fe1da66743eedf7791034de046b875e0bdfd561d009aed188a4f0c7\n",
            "  Stored in directory: /root/.cache/pip/wheels/73/2b/f6/26e9f84153c25050fe7c09e88f8e32a6be3c7034a38c418319\n",
            "Successfully built ordered-set\n",
            "Installing collected packages: ordered-set\n",
            "\u001b[31mERROR: pip's dependency resolver does not currently take into account all the packages that are installed. This behaviour is the source of the following dependency conflicts.\n",
            "torchmeta 1.4.6 requires torch<1.6.0,>=1.4.0, but you have torch 1.9.0+cu102 which is incompatible.\n",
            "torchmeta 1.4.6 requires torchvision<0.7.0,>=0.5.0, but you have torchvision 0.10.0+cu102 which is incompatible.\u001b[0m\n",
            "Successfully installed ordered-set-4.0.2\n",
            "Collecting colour\n",
            "  Downloading colour-0.1.5-py2.py3-none-any.whl (23 kB)\n",
            "Installing collected packages: colour\n",
            "Successfully installed colour-0.1.5\n"
          ],
          "name": "stdout"
        }
      ]
    },
    {
      "cell_type": "markdown",
      "metadata": {
        "id": "Y4fpzrWxRluK"
      },
      "source": [
        "### Our libraries"
      ]
    },
    {
      "cell_type": "code",
      "metadata": {
        "colab": {
          "base_uri": "https://localhost:8080/"
        },
        "id": "BIM2d2vuRpUH",
        "outputId": "11f1a870-9588-4a0f-dddb-782e149f2e9b"
      },
      "source": [
        "import sys\n",
        "import os\n",
        "\n",
        "if not os.path.isdir('automatic-integration'):\n",
        "    !git clone https://www.github.com/computational-imaging/automatic-integration\n",
        "    %cd automatic-integration\n",
        "    \n",
        "from autoint.session import Session\n",
        "import autoint.autograd_modules as autoint"
      ],
      "execution_count": 3,
      "outputs": [
        {
          "output_type": "stream",
          "text": [
            "Cloning into 'automatic-integration'...\n",
            "warning: redirecting to https://github.com/computational-imaging/automatic-integration.git/\n",
            "remote: Enumerating objects: 72, done.\u001b[K\n",
            "remote: Counting objects: 100% (72/72), done.\u001b[K\n",
            "remote: Compressing objects: 100% (63/63), done.\u001b[K\n",
            "remote: Total 72 (delta 27), reused 42 (delta 6), pack-reused 0\u001b[K\n",
            "Unpacking objects: 100% (72/72), done.\n",
            "/content/automatic-integration\n"
          ],
          "name": "stdout"
        }
      ]
    },
    {
      "cell_type": "markdown",
      "metadata": {
        "id": "tNHuGxpdOYeh"
      },
      "source": [
        "## A class to create coordinates from a 1D function we wish to fit"
      ]
    },
    {
      "cell_type": "code",
      "metadata": {
        "id": "n_9nVygnKENw"
      },
      "source": [
        "class Implicit1DWrapper(torch.utils.data.Dataset):\n",
        "    def __init__(self, range, fn, grad_fn=None, integral_fn=None, sampling_density=100,\n",
        "                 train_every=10):\n",
        "\n",
        "        avg = (range[0] + range[1]) / 2\n",
        "\n",
        "        coords = self.get_samples(range, sampling_density)\n",
        "        self.fn_vals = fn(coords)\n",
        "        self.train_idx = torch.arange(0, coords.shape[0], train_every).float()\n",
        "\n",
        "        #coords = (coords - avg) / (range[1] - avg)\n",
        "        self.grid = coords\n",
        "        self.grid.requires_grad_(True)\n",
        "        #self.val_grid = val_coords\n",
        "\n",
        "        if grad_fn is None:\n",
        "            grid_gt_with_grad = coords\n",
        "            grid_gt_with_grad.requires_grad_(True)\n",
        "            fn_vals_with_grad = fn((grid_gt_with_grad * (range[1] - avg)) + avg)\n",
        "            gt_gradient = torch.autograd.grad(fn_vals_with_grad, [grid_gt_with_grad],\n",
        "                                              grad_outputs=torch.ones_like(grid_gt_with_grad), create_graph=True,\n",
        "                                              retain_graph=True)[0]\n",
        "            try:\n",
        "                gt_hessian = torch.autograd.grad(gt_gradient, [grid_gt_with_grad],\n",
        "                                                 grad_outputs=torch.ones_like(gt_gradient), retain_graph=True)[0]\n",
        "            except Exception as e:\n",
        "                gt_hessian = torch.zeros_like(gt_gradient)\n",
        "\n",
        "        else:\n",
        "            gt_gradient = grad_fn(coords) \n",
        "            gt_hessian = torch.zeros_like(gt_gradient)\n",
        "\n",
        "        self.integral_fn = integral_fn\n",
        "        if integral_fn:\n",
        "            self.integral_vals = integral_fn(coords)\n",
        "\n",
        "        self.gt_gradient = gt_gradient.detach()\n",
        "        self.gt_hessian = gt_hessian.detach()\n",
        "\n",
        "    def get_samples(self, range, sampling_density):\n",
        "        num = int(range[1] - range[0])*sampling_density\n",
        "        avg = (range[0] + range[1]) / 2\n",
        "        coords = np.linspace(start=range[0], stop=range[1], num=num)\n",
        "        coords.astype(np.float32)\n",
        "        coords = torch.Tensor(coords).view(-1, 1)\n",
        "        return coords\n",
        "\n",
        "    def get_num_samples(self):\n",
        "        return self.grid.shape[0]\n",
        "\n",
        "    def __len__(self):\n",
        "        return 1\n",
        "\n",
        "    def __getitem__(self, idx):\n",
        "        if self.integral_fn is not None:\n",
        "            return {'coords':self.grid}, {'integral_func': self.integral_vals, 'func':self.fn_vals,\n",
        "                    'gradients':self.gt_gradient, 'val_func': self.val_fn_vals,\n",
        "                    'val_coords': self.val_grid, 'hessian':self.gt_hessian}\n",
        "        else:\n",
        "            return {'idx': self.train_idx, 'coords':self.grid}, \\\n",
        "                   {'func': self.fn_vals, 'gradients':self.gt_gradient,\n",
        "                    'coords': self.grid}"
      ],
      "execution_count": 4,
      "outputs": []
    },
    {
      "cell_type": "markdown",
      "metadata": {
        "id": "-ounsyPROmJe"
      },
      "source": [
        "## Different 1D functions we want to integrate"
      ]
    },
    {
      "cell_type": "code",
      "metadata": {
        "id": "w8oKENjbOpbG"
      },
      "source": [
        "def cos_fn(coords):\n",
        "  return torch.cos(1*coords)\n",
        "\n",
        "def polynomial_fn(coords):\n",
        "    return .1*coords**5 - .2*coords**4 + .2*coords**3 - .4*coords**2 + .1*coords\n",
        "\n",
        "def sinc_fn(coords):\n",
        "    coords[coords == 0] += 1\n",
        "    return torch.div(torch.sin(20*coords), 20*coords)\n",
        "\n",
        "def linear_fn(coords):\n",
        "    return 1.0 * coords\n",
        "\n",
        "def xcosx_fn(coords):\n",
        "    return coords * torch.cos(coords)\n",
        "\n",
        "def integral_xcosx_fn(coords):\n",
        "    return coords*torch.sin(coords) + torch.cos(coords)\n",
        "\n",
        "def exp_fn(coords):\n",
        "  return 2*coords*torch.exp(coords)"
      ],
      "execution_count": 63,
      "outputs": []
    },
    {
      "cell_type": "markdown",
      "metadata": {
        "id": "ir7qkzUwPhPS"
      },
      "source": [
        ""
      ]
    },
    {
      "cell_type": "markdown",
      "metadata": {
        "id": "2OSv8uMMPuy2"
      },
      "source": [
        "## Setting up the integral network & the grad network"
      ]
    },
    {
      "cell_type": "markdown",
      "metadata": {
        "id": "jVnl-6pQZv3S"
      },
      "source": [
        "We define an integral network using the AutoInt API. Here the integral network is a MLP with sine non-linearities: a SIREN."
      ]
    },
    {
      "cell_type": "code",
      "metadata": {
        "id": "R1eePTXXXoJo"
      },
      "source": [
        "class SIREN(MetaModule):\n",
        "    def __init__(self, session):\n",
        "        super().__init__()\n",
        "\n",
        "        self.net = [] \n",
        "        self.input = autoint.Input(torch.Tensor(1, 1), id='x_coords')\n",
        "\n",
        "        self.net.append(autoint.Linear(1, 128))\n",
        "        self.net.append(autoint.Sine())\n",
        "        self.net.append(autoint.Linear(128, 128))\n",
        "        self.net.append(autoint.Sine())\n",
        "        self.net.append(autoint.Linear(128, 128))\n",
        "        self.net.append(autoint.Sine())\n",
        "        self.net.append(autoint.Linear(128, 128))\n",
        "        self.net.append(autoint.Sine())\n",
        "        self.net.append(autoint.Linear(128, 1))\n",
        "\n",
        "        self.net = torch.nn.Sequential(*self.net)\n",
        "        self.session = session\n",
        "\n",
        "    def input_init(self, input_tensor, m):\n",
        "        with torch.no_grad():\n",
        "            if isinstance(m, autoint.Input):\n",
        "                m.set_value(input_tensor, grad=True)\n",
        "\n",
        "    def constant_init(self, input_tensor, m):\n",
        "        with torch.no_grad():\n",
        "            if isinstance(m, autoint.Constant):\n",
        "                m.set_value(input_tensor, grad=False)\n",
        "    \n",
        "    def forward(self, x):\n",
        "        with torch.no_grad():\n",
        "            input_init_func = partial(self.input_init, x[:, 0, None])\n",
        "            self.input.apply(input_init_func)\n",
        "\n",
        "        input_ctx = autoint.Value(x, self.session)\n",
        "\n",
        "        out1 = self.input(input_ctx)\n",
        "        return self.net(out1)"
      ],
      "execution_count": 6,
      "outputs": []
    },
    {
      "cell_type": "markdown",
      "metadata": {
        "id": "60jqgxBHZ65I"
      },
      "source": [
        "In AutoInt, a session will handle the derivation of the integral network into the grad network for you. It takes care of the reassembly of the weights too."
      ]
    },
    {
      "cell_type": "code",
      "metadata": {
        "colab": {
          "base_uri": "https://localhost:8080/"
        },
        "id": "_oo7dJHLP4ks",
        "outputId": "9ae982fe-aab1-4479-a5c9-745cb7f3cf09"
      },
      "source": [
        "integralnet_session = Session()"
      ],
      "execution_count": 136,
      "outputs": [
        {
          "output_type": "stream",
          "text": [
            "Creating session: 8763342699689\n"
          ],
          "name": "stdout"
        }
      ]
    },
    {
      "cell_type": "markdown",
      "metadata": {
        "id": "8U_zJVLxaIQH"
      },
      "source": [
        "We instantiate the integral net we defined earlier. The session can be thought as representing the integral network."
      ]
    },
    {
      "cell_type": "code",
      "metadata": {
        "id": "YVtqZ3D7Yp1s",
        "colab": {
          "base_uri": "https://localhost:8080/"
        },
        "outputId": "3340847e-399b-4725-c45c-0afb6d28b7b2"
      },
      "source": [
        "net = SIREN(integralnet_session)\n",
        "net.cuda()"
      ],
      "execution_count": 137,
      "outputs": [
        {
          "output_type": "execute_result",
          "data": {
            "text/plain": [
              "SIREN(\n",
              "  (input): Input()\n",
              "  (net): Sequential(\n",
              "    (0): Linear()\n",
              "    (1): Sine()\n",
              "    (2): Linear()\n",
              "    (3): Sine()\n",
              "    (4): Linear()\n",
              "    (5): Sine()\n",
              "    (6): Linear()\n",
              "    (7): Sine()\n",
              "    (8): Linear()\n",
              "  )\n",
              "  (session): Session()\n",
              ")"
            ]
          },
          "metadata": {
            "tags": []
          },
          "execution_count": 137
        }
      ]
    },
    {
      "cell_type": "markdown",
      "metadata": {
        "id": "RpImr_0IdUeY"
      },
      "source": [
        "We can evaluate the SIREN we instantiated using the forward function as we would do for any Pytorch module."
      ]
    },
    {
      "cell_type": "code",
      "metadata": {
        "colab": {
          "base_uri": "https://localhost:8080/"
        },
        "id": "4cmwf3bEdbMk",
        "outputId": "cfc59269-5928-487d-d0ed-96604abf4e34"
      },
      "source": [
        "x = torch.ones(1, 1).cuda() # defines a dummy input\n",
        "y = torch.ones(1, 1).cuda()\n",
        "x.requires_grad_(True)\n",
        "\n",
        "session_input = {'x_coords': x,\n",
        "                 #'y_coords': y,\n",
        "                 'params': None}\n",
        "\n",
        "y = net(x)\n",
        "\n",
        "forward_siren_evaluation = y.data\n",
        "print(f\"result of forward SIREN evaluation={forward_siren_evaluation}\")"
      ],
      "execution_count": 138,
      "outputs": [
        {
          "output_type": "stream",
          "text": [
            "result of forward SIREN evaluation=tensor([[0.0223]], device='cuda:0', grad_fn=<AddBackward0>)\n"
          ],
          "name": "stdout"
        }
      ]
    },
    {
      "cell_type": "markdown",
      "metadata": {
        "id": "tSdpdZQHbjsF"
      },
      "source": [
        "Evaluating the session also yields the output of the network. We must evaluate the session at least once (as done above) to initialize the session properly and get the backward session"
      ]
    },
    {
      "cell_type": "code",
      "metadata": {
        "colab": {
          "base_uri": "https://localhost:8080/"
        },
        "id": "FQZVe8RjcOcU",
        "outputId": "7081c84d-a853-4a81-9de9-bdbd6b572cbd"
      },
      "source": [
        "integralnet_session_evaluation = integralnet_session(session_input)\n",
        "print(f\"result of forward session evaluation={integralnet_session_evaluation}\")"
      ],
      "execution_count": 139,
      "outputs": [
        {
          "output_type": "stream",
          "text": [
            "result of forward session evaluation=tensor([[0.0223]], device='cuda:0', grad_fn=<AddBackward0>)\n"
          ],
          "name": "stdout"
        }
      ]
    },
    {
      "cell_type": "markdown",
      "metadata": {
        "id": "_g4JShidOkS4"
      },
      "source": [
        "We can check the two evaluations (the evaluation of the integral network via forward and of the session representing the integral network) are the same"
      ]
    },
    {
      "cell_type": "code",
      "metadata": {
        "colab": {
          "base_uri": "https://localhost:8080/"
        },
        "id": "VSrBokZqOnQW",
        "outputId": "a5a3ccf5-fb8e-4dcc-c7df-5d7555fe1686"
      },
      "source": [
        "error_fn = torch.nn.MSELoss()\n",
        "print(f\"Error between session and network evaluation={error_fn(forward_siren_evaluation.squeeze(), \\\n",
        "                                                               integralnet_session_evaluation.squeeze())}\")"
      ],
      "execution_count": 140,
      "outputs": [
        {
          "output_type": "stream",
          "text": [
            "Error between session and network evaluation=0.0\n"
          ],
          "name": "stdout"
        }
      ]
    },
    {
      "cell_type": "markdown",
      "metadata": {
        "id": "y0LdCq_Aakt6"
      },
      "source": [
        "Calling the function get_backward_graph() on the session instantiates another session that represents the grad network. **(this can only be done if the network has been run once!)**\n",
        "\n"
      ]
    },
    {
      "cell_type": "code",
      "metadata": {
        "colab": {
          "base_uri": "https://localhost:8080/"
        },
        "id": "3fdpGxcrZr0D",
        "outputId": "a67e6d61-222e-420f-f8b7-1308531656cc"
      },
      "source": [
        "gradnet_session = integralnet_session.get_backward_graph()"
      ],
      "execution_count": 141,
      "outputs": [
        {
          "output_type": "stream",
          "text": [
            "Creating session: 8763342680661\n"
          ],
          "name": "stdout"
        }
      ]
    },
    {
      "cell_type": "markdown",
      "metadata": {
        "id": "WgubofKAbHBF"
      },
      "source": [
        "We can visualize the integral network we created (by visualizing its associated session)"
      ]
    },
    {
      "cell_type": "code",
      "metadata": {
        "colab": {
          "base_uri": "https://localhost:8080/",
          "height": 264
        },
        "id": "yFXCebRMbJri",
        "outputId": "0d961f66-8218-4711-a478-166a1918bfac"
      },
      "source": [
        "integralnet_session.draw()"
      ],
      "execution_count": 142,
      "outputs": [
        {
          "output_type": "display_data",
          "data": {
            "image/png": "[encoded data removed]",
            "text/plain": [
              "<Figure size 432x288 with 1 Axes>"
            ]
          },
          "metadata": {
            "tags": []
          }
        }
      ]
    },
    {
      "cell_type": "markdown",
      "metadata": {
        "id": "UxbO65_XfHmV"
      },
      "source": [
        "We can also visualize the grad network (contained in the backward session):"
      ]
    },
    {
      "cell_type": "code",
      "metadata": {
        "colab": {
          "base_uri": "https://localhost:8080/",
          "height": 264
        },
        "id": "CkEn1gIzfGXU",
        "outputId": "6b668d23-389f-4927-f452-ace3af26f921"
      },
      "source": [
        "gradnet_session.draw()"
      ],
      "execution_count": 143,
      "outputs": [
        {
          "output_type": "display_data",
          "data": {
            "image/png": "[encoded data removed]",
            "text/plain": [
              "<Figure size 432x288 with 1 Axes>"
            ]
          },
          "metadata": {
            "tags": []
          }
        }
      ]
    },
    {
      "cell_type": "markdown",
      "metadata": {
        "id": "4SU-FDmrQ0Zf"
      },
      "source": [
        "## Fitting the grad network"
      ]
    },
    {
      "cell_type": "markdown",
      "metadata": {
        "id": "SIgUh0NGe0YP"
      },
      "source": [
        "We choose the function we want to calculate the integral using AutoInt."
      ]
    },
    {
      "cell_type": "code",
      "metadata": {
        "id": "iOYLeR2FRnjP"
      },
      "source": [
        "func_to_fit = exp_fn"
      ],
      "execution_count": 144,
      "outputs": []
    },
    {
      "cell_type": "markdown",
      "metadata": {
        "id": "yQC6pm8Te5LP"
      },
      "source": [
        "We create the dataloader that will create the pairs of datapoints of the form (input coordinate, output of the function to integrate) for us."
      ]
    },
    {
      "cell_type": "code",
      "metadata": {
        "id": "TbEDxifHHodR"
      },
      "source": [
        "range1 = [-1,2]"
      ],
      "execution_count": 145,
      "outputs": []
    },
    {
      "cell_type": "code",
      "metadata": {
        "id": "grw61O08ezX4"
      },
      "source": [
        "dataset = Implicit1DWrapper(range1, fn=func_to_fit, \\\n",
        "                            sampling_density=1000, train_every=1)\n",
        "dataloader = DataLoader(dataset,shuffle=True, batch_size=1, \\\n",
        "                        pin_memory=True, num_workers=0)\n",
        "\n",
        "def dict2cuda(d):\n",
        "    tmp = {}\n",
        "    for key, value in d.items():\n",
        "        if isinstance(value, torch.Tensor):\n",
        "            tmp.update({key: value.cuda()})\n",
        "        else:\n",
        "            tmp.update({key: value})\n",
        "    return tmp"
      ],
      "execution_count": 146,
      "outputs": []
    },
    {
      "cell_type": "markdown",
      "metadata": {
        "id": "cWE59YMnfC2e"
      },
      "source": [
        "A minimal example of a training loop to fit the function:"
      ]
    },
    {
      "cell_type": "code",
      "metadata": {
        "colab": {
          "base_uri": "https://localhost:8080/"
        },
        "id": "OEEfB9NRQ7xF",
        "outputId": "9baaeef5-c5aa-4cfc-8db0-5e97221b811d"
      },
      "source": [
        "epochs = 500\n",
        "\n",
        "loss_fn = torch.nn.MSELoss()\n",
        "optimizer = torch.optim.Adam(lr=5e-5, params=net.parameters(),amsgrad=True)\n",
        "\n",
        "print_loss_every = 50\n",
        "\n",
        "for e in range(epochs):\n",
        "  for step, (input, gt) in enumerate(dataloader):\n",
        "      input = dict2cuda(input)\n",
        "      gt = dict2cuda(gt)\n",
        "      \n",
        "      gradnet_output = gradnet_session.compute_graph_fast({'x_coords': input['coords'],\n",
        "                                                           'params': None})\n",
        "      loss = loss_fn(gradnet_output,gt['func']).mean()\n",
        "\n",
        "      optimizer.zero_grad()\n",
        "      loss.backward()\n",
        "\n",
        "      optimizer.step()\n",
        "    \n",
        "  if not e % print_loss_every:\n",
        "      print(f\"{e}/{epochs}: loss={loss}\")"
      ],
      "execution_count": 149,
      "outputs": [
        {
          "output_type": "stream",
          "text": [
            "0/500: loss=5.9590935707092285\n",
            "50/500: loss=4.796849727630615\n",
            "100/500: loss=3.607897996902466\n",
            "150/500: loss=2.719578504562378\n",
            "200/500: loss=2.029019355773926\n",
            "250/500: loss=1.4953726530075073\n",
            "300/500: loss=1.0889490842819214\n",
            "350/500: loss=0.7841872572898865\n",
            "400/500: loss=0.5589590072631836\n",
            "450/500: loss=0.4225705564022064\n"
          ],
          "name": "stdout"
        }
      ]
    },
    {
      "cell_type": "code",
      "metadata": {
        "colab": {
          "base_uri": "https://localhost:8080/",
          "height": 282
        },
        "id": "9MCwLg1oZ3o2",
        "outputId": "d49635d8-5777-4732-c789-18e915c8741a"
      },
      "source": [
        "x_coords = torch.linspace(-1,2,100)[:,None].cuda()\n",
        "grad_vals = func_to_fit(x_coords).cpu()\n",
        "fitted_grad_vals = gradnet_session.compute_graph_fast({'x_coords': x_coords,\n",
        "                                                       'params': None}).cpu()\n",
        "integral_vals = integralnet_session.compute_graph_fast({'x_coords': x_coords,\n",
        "                                                        'params': None}).cpu()\n",
        "\n",
        "x_coords = x_coords.cpu()\n",
        "plt.plot(x_coords,grad_vals,'-k', label='Function to integrate')\n",
        "plt.plot(x_coords,fitted_grad_vals.detach(),'.r', label='Grad network')\n",
        "plt.plot(x_coords,integral_vals.detach(),'-b', label='Integral network')\n",
        "plt.legend(bbox_to_anchor=(1.05, 1.0), loc='upper left')\n"
      ],
      "execution_count": 152,
      "outputs": [
        {
          "output_type": "execute_result",
          "data": {
            "text/plain": [
              "<matplotlib.legend.Legend at 0x7f866519ff10>"
            ]
          },
          "metadata": {
            "tags": []
          },
          "execution_count": 152
        },
        {
          "output_type": "display_data",
          "data": {
            "image/png": "[encoded data removed]",
            "text/plain": [
              "<Figure size 432x288 with 1 Axes>"
            ]
          },
          "metadata": {
            "tags": [],
            "needs_background": "light"
          }
        }
      ]
    },
    {
      "cell_type": "code",
      "metadata": {
        "id": "J3e7YS8VCQ8g",
        "outputId": "5b200d48-c1fc-4713-a9bf-1ee1c73990f2",
        "colab": {
          "base_uri": "https://localhost:8080/"
        }
      },
      "source": [
        "gradnet_session.compute_graph_fast({'x_coords':torch.linspace(0,1,2)[:,None].cuda(), 'params':None }).cpu()"
      ],
      "execution_count": 82,
      "outputs": [
        {
          "output_type": "execute_result",
          "data": {
            "text/plain": [
              "tensor([[-2.4664e-03],\n",
              "        [ 5.3579e+00]], grad_fn=<CopyBackwards>)"
            ]
          },
          "metadata": {
            "tags": []
          },
          "execution_count": 82
        }
      ]
    },
    {
      "cell_type": "code",
      "metadata": {
        "id": "CrodfcAXCiUK"
      },
      "source": [
        "integral = integralnet_session.compute_graph_fast({'x_coords':torch.linspace(-1e5,1e5,2)[:,None].cuda(),\n",
        "                                                        'params': None}).cpu()"
      ],
      "execution_count": 85,
      "outputs": []
    },
    {
      "cell_type": "code",
      "metadata": {
        "id": "yubppTV_EE5Y",
        "outputId": "fcb6bd6d-1ce6-45b0-f0e3-e31bc2826a66",
        "colab": {
          "base_uri": "https://localhost:8080/"
        }
      },
      "source": [
        "integral[1] - integral[0]"
      ],
      "execution_count": 86,
      "outputs": [
        {
          "output_type": "execute_result",
          "data": {
            "text/plain": [
              "tensor([0.0929], grad_fn=<SubBackward0>)"
            ]
          },
          "metadata": {
            "tags": []
          },
          "execution_count": 86
        }
      ]
    },
    {
      "cell_type": "code",
      "metadata": {
        "id": "-vX7qIWTCvsE"
      },
      "source": [
        ""
      ],
      "execution_count": null,
      "outputs": []
    }
  ]
}